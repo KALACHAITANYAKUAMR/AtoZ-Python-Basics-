{
 "cells": [
  {
   "cell_type": "markdown",
   "metadata": {},
   "source": [
    "# Python full details \n",
    "Wwhat is python ?\n",
    "python is powerful high-level,object-orirnted programming languvage created by Guido van Rossum\n",
    "\n",
    "features of python\n",
    "1.simple language-easier to learn\n",
    "2.free and open source\n",
    "3.portability\n",
    "4.extensible andembeddable\n",
    "5.highlevel-interpreted language\n",
    "6.large standed libraries\n",
    "7.object orinted language\n",
    "you shall master in python\n",
    "<>programming in python is fun it's easier to understand and write python code\n"
   ]
  },
  {
   "cell_type": "markdown",
   "metadata": {},
   "source": [
    "DIVING INTO THE HEART OF PYTHON\n",
    "EXPERSSION: a data value a set of operqation to compute avalue\n",
    "example : 1+4*3=42\n",
    "Artithmetic operation we will uselike\n",
    "+ - * / addition,subtraction,multiplicatiion,division\n",
    "% modulus,a,k,a remainder\n",
    "** exponention\n",
    "procedence: order in wich operation are computed\n",
    "@ */%** have ahiger precedence than +-,   1+3*4 is 13\n",
    "@Parantheses can be used to force a certain order of evalution (1+3)*4 is 16"
   ]
  },
  {
   "cell_type": "markdown",
   "metadata": {},
   "source": [
    "# Python has usefull commands for performing calcualation\n",
    "1.ads(value) = absolute value\n",
    "2.ceil(value) = round up\n",
    "3.cos(value) = cosine,in radians\n",
    "4.floor(value) = round down\n",
    "5.log(value) = logarithm,base e\n",
    "6.log10(value) = logarithm,base 10.\n",
    "7.max(value1,value2) = larger of two value.\n",
    "8.min(value1,value2) = smaller whole number.\n",
    "9.round(value) = nearest whole number \n",
    "10.sin(value) = sine,in radians\n",
    "11.sqrt(value) = square root\n",
    "12.e = 2.7182818\n",
    "13.pi = 3.1415926.\n",
    "14.\n"
   ]
  },
  {
   "cell_type": "markdown",
   "metadata": {},
   "source": [
    "-Variable is a named piece of memory that can store a value\n",
    "usage:\n",
    "_- comute an expression's result\n",
    "_-store that resutl into a variable\n",
    "_-and use that variable later in the program\n",
    "Assignment statement : Store a value into a variable\n",
    "syntax: \n",
    "  name = value\n",
    "  example: x =5\n",
    "  gps = 3.14\n",
    "  . A Variable that has been given a value csn be used in expression x + 4 is9\n",
    "  "
   ]
  },
  {
   "cell_type": "markdown",
   "metadata": {},
   "source": [
    "# Many types of datatypes to choose fro in python\n",
    "1.INTEGERS (default for number)\n",
    "   z = 5/2 # answer 2, integer division\n",
    "2.Floats (ind decimal numbers only)\n",
    "     x = 3.456\n",
    "3.Strings(names or enlish letters only)\n",
    "  can use \"\"or\"\" to specify with \"abc\"=='abc'\n",
    "  unmatched can occur within the stings: \"matt's\"\n",
    "  use triple double-quotes for multi strings or strings than contins both and \" inside of them\"\n",
    "  \"\"\"a'b\"c\"\"\""
   ]
  },
  {
   "cell_type": "markdown",
   "metadata": {},
   "source": [
    "# Whitespace(blank space) is meaningfull in python: especially indentation and placement of newlines\n",
    "\n",
    "Use a newline to end a line of code\n",
    "Use \\ when must go to next line permaturely\n",
    "\n",
    "No braces {} to mark block of code ,use conisstents indentation instead\n",
    "    *First line with less indentation is outside of the block\n",
    "    *first line with more indenatation starts a nested block\n",
    "    colons starts id  anew block in many construcyio ,e.g. finctions ,then clauses.\n",
    " "
   ]
  },
  {
   "cell_type": "markdown",
   "metadata": {},
   "source": [
    "# comments helpus understands the code batter\n",
    "Starts comments with # ,rest of the line is ignored\n",
    "can include a \"documentation string\" as the first line of a new functin or class u define \n",
    "Development evironments ,debugger,and other tools use it: its good style to include one.\n",
    "\n",
    "example:\n",
    "        : # im a comment"
   ]
  },
  {
   "cell_type": "markdown",
   "metadata": {},
   "source": [
    "SO HOW DO YOU OUT SOME VALUE IA VARIABLE\n",
    "Binding variable in python means setting a name to hold a reference to some object\n",
    "     Assigment creats reference ,not copies\n",
    "Name in python do not have an intrinsic type,objects have types\n",
    "    Python determines the type of the reference automaticaly based on what data is assigned to it\n",
    "you created a name the first tie it appearnce on the left side of an assignment expression:\n",
    "    x = 3\n",
    "A refernce is deleted via garbage collection after any names bound to it have passed out of acope \n",
    "    python uses reference semantics"
   ]
  },
  {
   "cell_type": "markdown",
   "metadata": {},
   "source": [
    "# Reserved words in python\n",
    "\n",
    "Name are case sentitive and cannot start with a number.They can contains letters,\n",
    "    bob_Bob_bob_2_nob_3_kob_BoB\n",
    "There are reserved words:\n",
    "    and,assert,break,class,continue,def,del,elif,else,except,exec,finally,for,from,\n",
    "    global,if,import,in,is,lambda,not,or,pass,print,raise,return,try,while\n",
    "    \n",
    "    WE have 3 recommended convertion\n",
    "        The python community has these recommended naming convention\n",
    "        *join_lower for function ,methods and attributes|\n",
    "        *joined_lower or ALL_CAPS for constants\n",
    "        *Studly for classes|\n",
    "        Attributes : interface,_internal,_private\n",
    "        "
   ]
  },
  {
   "cell_type": "markdown",
   "metadata": {},
   "source": [
    "# assignment - an easier way?\n",
    "   LESS OF TYPING MEANS MORE OF CODE\n",
    "    YOU can assign to multiple names at the same time\n",
    "    >>> x,y = 2,3\n",
    "    >>> x = 2\n",
    "    >>> y = 3\n",
    "    This makes it easy  to swap values \n",
    "    >>> x,y = y,x\n",
    "    Assignments can be chained\n",
    "    >>> a=b=x=2\n",
    "    "
   ]
  },
  {
   "cell_type": "markdown",
   "metadata": {},
   "source": [
    "# accessing NON-Existent Names\n",
    "  LETS SEE HOW WE CAN RAISE AN ERROR\n",
    "  accesssing a name befor its been properly created(by placing it on he left side of an assingments ),rasier an error\n",
    "  \n",
    "  >>> y\n",
    "      Traceback (most recent cell lasst):\n",
    "      File\"<pyshell#16>\", line 1,in -toplevel-\n",
    "      NameError: name 'y' is not define\n",
    "      >>> y = 3\n",
    "      >>> y\n",
    "          3\n",
    "          "
   ]
  },
  {
   "cell_type": "markdown",
   "metadata": {},
   "source": [
    "# CASTING \n",
    "\n",
    "uesd for changing one data type to another data types\n",
    "\n",
    "# We can explicitly convers based on requirements\n",
    "\n",
    "Casting in python is therefore done using construcotrs functions:\n",
    "\n",
    "   *int() --- constructs an integer number from an integer literal, a float  literal (by rounding down to the prevoius whole number), or a string literal (providing the string represents a whole number)\n",
    "    *float() ---  constructs an float number from an integer literal, a float  literal a string literal (provides the string represents a float or an integer)\n",
    "    *str() ---- constructs string from a wide variety of data types ,including strings,integer literal and float liters\n",
    "    "
   ]
  },
  {
   "cell_type": "markdown",
   "metadata": {},
   "source": [
    "# Example for Castings \n",
    "\n",
    " x = int(1)      # x will be 1\n",
    " y = int(2.8)    # y will be 2\n",
    " z = int(\"3\")    # z will be 3\n",
    " \n",
    " x = float(1)     # x will be 1.0\n",
    " y = float(2.8)   # y will be 2.8\n",
    " z = float (\"3\")  # z will be 3.0\n",
    " w = float(\"4.2\") # w will be 4.2\n",
    " \n",
    " x = str(\"s1\")    # x will be \"s1\"\n",
    " y = str(2)       # y will be '2'\n",
    " z = str (3.0)    # z will be '3.0'\n",
    " "
   ]
  },
  {
   "cell_type": "markdown",
   "metadata": {},
   "source": [
    "   # python code let's go from here"
   ]
  },
  {
   "cell_type": "code",
   "execution_count": 9,
   "metadata": {},
   "outputs": [
    {
     "name": "stdout",
     "output_type": "stream",
     "text": [
      "e\n"
     ]
    }
   ],
   "source": [
    "#lets get started with String \n",
    "# \"hello\" is some as 'hello'\n",
    "#square bracket can be used to accesss elements:\n",
    "\n",
    "a = 'hello world'\n",
    "print(a[1])  "
   ]
  },
  {
   "cell_type": "code",
   "execution_count": 11,
   "metadata": {},
   "outputs": [
    {
     "name": "stdout",
     "output_type": "stream",
     "text": [
      "llo,wor\n"
     ]
    }
   ],
   "source": [
    "# Substring:\n",
    "# get the characters from position 2 to 9 (not included):\n",
    "\n",
    "b = \"hello,world\"\n",
    "print(b[2:9])"
   ]
  },
  {
   "cell_type": "code",
   "execution_count": 13,
   "metadata": {},
   "outputs": [
    {
     "name": "stdout",
     "output_type": "stream",
     "text": [
      "hello,world\n"
     ]
    }
   ],
   "source": [
    "#the strip() method removes any whitespace(empty space) from the beginning or the end :\n",
    "\n",
    "a = \" hello,world \"\n",
    "print(a.strip())      # returns \"hello,world\"   32.40 mintus"
   ]
  },
  {
   "cell_type": "code",
   "execution_count": 15,
   "metadata": {},
   "outputs": [
    {
     "name": "stdout",
     "output_type": "stream",
     "text": [
      "11\n"
     ]
    }
   ],
   "source": [
    "#the len()method returns the lenth of string. to get totalnumber is there \n",
    "\n",
    "a = \"hello,world\"\n",
    "print(len(a))"
   ]
  },
  {
   "cell_type": "code",
   "execution_count": 16,
   "metadata": {},
   "outputs": [
    {
     "name": "stdout",
     "output_type": "stream",
     "text": [
      "hello,world\n"
     ]
    }
   ],
   "source": [
    "#The lower() method returns the string in lower case : to get all letters in lower case formate \\\n",
    "\n",
    "a = \"HELLO,WORLD\"\n",
    "print(a.lower())"
   ]
  },
  {
   "cell_type": "code",
   "execution_count": 17,
   "metadata": {},
   "outputs": [
    {
     "name": "stdout",
     "output_type": "stream",
     "text": [
      "HELLO,WORLD\n"
     ]
    }
   ],
   "source": [
    "#the upper() method  returns the string in upper case : to get all letters in upper case formate\n",
    "\n",
    "a = \"hello,world\"\n",
    "print(a.upper())"
   ]
  },
  {
   "cell_type": "code",
   "execution_count": 18,
   "metadata": {},
   "outputs": [
    {
     "name": "stdout",
     "output_type": "stream",
     "text": [
      "jello,World\n"
     ]
    }
   ],
   "source": [
    "# The replace () method replace a string with another string:\n",
    "\n",
    "a = \"Hello,World\"\n",
    "print(a.replace(\"H\",\"j\"))"
   ]
  },
  {
   "cell_type": "code",
   "execution_count": 19,
   "metadata": {},
   "outputs": [
    {
     "name": "stdout",
     "output_type": "stream",
     "text": [
      "['Hello', 'World?']\n"
     ]
    }
   ],
   "source": [
    "# the split() method splits the string into substrings if it finds of the separator:\n",
    "\n",
    "a = \"Hello,World?\"\n",
    "print(a.split(\",\"))  #returns ['Hello','World']"
   ]
  },
  {
   "cell_type": "markdown",
   "metadata": {},
   "source": [
    "# Python Operatinos\n",
    "\n",
    "ARITHMETIC OPERATION\n",
    "\n",
    "    WE CAN PERFORM COMMON MATH OPERATION EASILY\n",
    "  \n",
    "  + addition x+y\n",
    "  - Subtraction x-y\n",
    "  * multiplication x*y\n",
    "  / Division x/y\n",
    "  * Modulus x%y\n",
    "  ** Exponentation x**y\n",
    "  // Floor Division x//y\n",
    "  \n",
    "  we can assign value to variables easily\n",
    "   assinment operation       = , x=5, x=5\n",
    "   increment operatioin     += , x+=3, x=x+3\n",
    "   substraction operatiion  -= , x-=3, x=x-3\n",
    "   multiplication operation *= , x*=3, x=x*3\n",
    "                            &= , x&=3, x=x&3\n",
    "                            >>= ,x>>=3, x=x>>3\n",
    "                            <<= ,x<<=3, x=x<<3\n",
    "               \n",
    "COMPARISION OPERATIONS\n",
    "    WE CAN COMPARE TO TWO VALUES EASILY \n",
    "  == Equal x==y\n",
    "  != not equal x!=y\n",
    "  > Greater than x>y\n",
    "  < less than x<y\n",
    "  >= Greater than or equal to x>=y\n",
    "  <=  Less than or equal to x<=y\n",
    "  \n",
    "LOGICAL OPERATIONS\n",
    " AND=== Returns True if both statements are true, x<5 and x<10\n",
    " OR=== Returns True if one of the statements is true = x<5 or x<4\n",
    " NOT=== revers the results resturns false if the result is true, not(x,5 and x<10)\n",
    " \n",
    "IDENTITY OPERATION\n",
    "   compare objects,not to check if they are equal but to check if they are the same object\n",
    "   IS== Returns True if both variable are same object, x is y\n",
    "   IS NOT== Returns True if both variables are not same object, x is not y\n",
    "\n",
    "BITWISE OPERATORS\n",
    "    & = AND == sets each bit to 1 if both bits are 1\n",
    "    | = OR == sets each bit 1 if one of two bits are 1\n",
    "    ^ = XOR == sets each bit to 1 if only one of two bits i 1\n",
    "    ~ = NOT == invert all the bits\n",
    "    << = zero fill left shift == shift left by pushing zeros in from the right and let the leftmost bits fall off\n",
    "    >> = signed rigt shift == shift right by pushing copies of leftmost bit in from the left and let the rightmost bits fall of\n",
    "   \n",
    "\n",
    "    "
   ]
  },
  {
   "cell_type": "markdown",
   "metadata": {},
   "source": [
    "# Python Lits\n",
    "\n",
    "  Python has a set of built-in method that you can use \n",
    "    append() = adds an elements at the end of the list\n",
    "    clear() = remove alll the elements from the list\n",
    "    copy() = return a copy of the list\n",
    "    count() = return the number of the elements with the specified value\n",
    "    extend() = add the  elements of a list to the end of the current value\n",
    "    index() = return the index of the first element with the specified value\n",
    "    insert() = adds an elements at the specified posistion\n",
    "    pop() = removes the elements at the specified posistion\n",
    "    removes() = removes the item with the specified value\n",
    "    reverse() = reverse the order of list\n",
    "    sort() = sort the list"
   ]
  },
  {
   "cell_type": "code",
   "execution_count": 20,
   "metadata": {},
   "outputs": [
    {
     "name": "stdout",
     "output_type": "stream",
     "text": [
      "['apple', 'banana', 'cherry']\n"
     ]
    }
   ],
   "source": [
    "#python Lists\n",
    "#list a collection whihch is orderd and changeable. Allows duplicate members\n",
    "#let's creats alists\n",
    "\n",
    "thislist = ['apple','banana','cherry']\n",
    "print(thislist)"
   ]
  },
  {
   "cell_type": "code",
   "execution_count": 21,
   "metadata": {},
   "outputs": [
    {
     "name": "stdout",
     "output_type": "stream",
     "text": [
      "banana\n"
     ]
    }
   ],
   "source": [
    "#Access items:\n",
    "# you access the list items by referring to the index number:\n",
    "#print the scond item of the list:\n",
    "\n",
    "thislist = ['apple','banana','cherry']\n",
    "print(thislist[1])"
   ]
  },
  {
   "cell_type": "code",
   "execution_count": 23,
   "metadata": {},
   "outputs": [
    {
     "name": "stdout",
     "output_type": "stream",
     "text": [
      "['apple', 'blackcurrent', 'cherry']\n"
     ]
    }
   ],
   "source": [
    "#Change item value:\n",
    "#to change the value of a specific item,to the index number.\n",
    "#change the second item: replacing the perticular name by another name \n",
    "\n",
    "thislist = ['apple','banana','cherry']\n",
    "thislist[1] ='blackcurrent'\n",
    "print(thislist)"
   ]
  },
  {
   "cell_type": "code",
   "execution_count": 24,
   "metadata": {},
   "outputs": [
    {
     "name": "stdout",
     "output_type": "stream",
     "text": [
      "apple\n",
      "banana\n",
      "cherry\n"
     ]
    }
   ],
   "source": [
    "#Loop through a list\n",
    "#yoyu can loop through the list item by a for loop\n",
    "#print all items in the list,one by one:\n",
    "\n",
    "thislist = ['apple','banana','cherry']\n",
    "for x in thislist:\n",
    "    print(x)"
   ]
  },
  {
   "cell_type": "code",
   "execution_count": 26,
   "metadata": {},
   "outputs": [
    {
     "name": "stdout",
     "output_type": "stream",
     "text": [
      "yes,'apple'is in the fruits lits\n"
     ]
    }
   ],
   "source": [
    "#check item Exists:\n",
    "#to determine if a specific item is present in a list use the in keyword\n",
    "#check \"apple\" is present in the list \n",
    "\n",
    "thislist = ['apple','banana','cherry']\n",
    "if'apple'in thislist:\n",
    "    print(\"yes,'apple'is in the fruits lits\")"
   ]
  },
  {
   "cell_type": "code",
   "execution_count": 27,
   "metadata": {},
   "outputs": [
    {
     "name": "stdout",
     "output_type": "stream",
     "text": [
      "3\n"
     ]
    }
   ],
   "source": [
    "#list length to detemine the how many items a list have .use the len() method:\n",
    "#print the number of items in the list:\n",
    "\n",
    "thislist = ['apple','banana','cherry']\n",
    "print(len(thislist))"
   ]
  },
  {
   "cell_type": "code",
   "execution_count": 28,
   "metadata": {},
   "outputs": [
    {
     "name": "stdout",
     "output_type": "stream",
     "text": [
      "['apple', 'banana', 'cherry', 'orange']\n"
     ]
    }
   ],
   "source": [
    "#add items:\n",
    "# to add an item to the end of the list,use the append() method\n",
    "#using the append() method to append an item:\n",
    "\n",
    "thislist = ['apple','banana','cherry']\n",
    "thislist.append(\"orange\")\n",
    "print(thislist)"
   ]
  },
  {
   "cell_type": "code",
   "execution_count": 33,
   "metadata": {},
   "outputs": [
    {
     "name": "stdout",
     "output_type": "stream",
     "text": [
      "['apple', 'banana', 'orange', 'cherry']\n"
     ]
    }
   ],
   "source": [
    "# to add an item at the specific index,use the insert() method\n",
    "# insert item in second position:\n",
    "\n",
    "thislist = ['apple','banana','cherry']\n",
    "thislist.insert(2,\"orange\")\n",
    "print(thislist)"
   ]
  },
  {
   "cell_type": "code",
   "execution_count": 34,
   "metadata": {},
   "outputs": [
    {
     "name": "stdout",
     "output_type": "stream",
     "text": [
      "['apple', 'cherry']\n"
     ]
    }
   ],
   "source": [
    "#Remve item:\n",
    "#there are several methods to remove items from a list'\n",
    "#the removes () method the specified items\":\n",
    "\n",
    "thislist = ['apple','banana','cherry']\n",
    "thislist.remove(\"banana\")\n",
    "print(thislist)\n"
   ]
  },
  {
   "cell_type": "code",
   "execution_count": 35,
   "metadata": {},
   "outputs": [
    {
     "name": "stdout",
     "output_type": "stream",
     "text": [
      "['banana', 'cherry']\n"
     ]
    }
   ],
   "source": [
    "# The del keyword removes the specifid index:\n",
    "\n",
    "thislist = ['apple','banana','cherry']\n",
    "del thislist[0]\n",
    "print(thislist)"
   ]
  },
  {
   "cell_type": "code",
   "execution_count": 6,
   "metadata": {},
   "outputs": [
    {
     "name": "stdout",
     "output_type": "stream",
     "text": [
      "['apple', 'banana']\n"
     ]
    }
   ],
   "source": [
    "#The pop () method removes the specified index,(or (the last item if index is not specified))\n",
    "\n",
    "thislist = ['apple','banana','cherry']\n",
    "thislist.pop()\n",
    "print(thislist)"
   ]
  },
  {
   "cell_type": "code",
   "execution_count": 7,
   "metadata": {},
   "outputs": [
    {
     "ename": "NameError",
     "evalue": "name 'thislist' is not defined",
     "output_type": "error",
     "traceback": [
      "\u001b[1;31m---------------------------------------------------------------------------\u001b[0m",
      "\u001b[1;31mNameError\u001b[0m                                 Traceback (most recent call last)",
      "\u001b[1;32m<ipython-input-7-7b3954721337>\u001b[0m in \u001b[0;36m<module>\u001b[1;34m\u001b[0m\n\u001b[0;32m      3\u001b[0m \u001b[0mthislist\u001b[0m \u001b[1;33m=\u001b[0m \u001b[1;33m[\u001b[0m\u001b[1;34m'apple'\u001b[0m\u001b[1;33m,\u001b[0m\u001b[1;34m'banana'\u001b[0m\u001b[1;33m,\u001b[0m\u001b[1;34m'cherry'\u001b[0m\u001b[1;33m]\u001b[0m\u001b[1;33m\u001b[0m\u001b[1;33m\u001b[0m\u001b[0m\n\u001b[0;32m      4\u001b[0m \u001b[1;32mdel\u001b[0m \u001b[0mthislist\u001b[0m\u001b[1;33m\u001b[0m\u001b[1;33m\u001b[0m\u001b[0m\n\u001b[1;32m----> 5\u001b[1;33m \u001b[0mprint\u001b[0m\u001b[1;33m(\u001b[0m\u001b[0mthislist\u001b[0m\u001b[1;33m)\u001b[0m \u001b[1;31m#nthis will cause an error because \"thislist\" no longer exists\u001b[0m\u001b[1;33m\u001b[0m\u001b[1;33m\u001b[0m\u001b[0m\n\u001b[0m",
      "\u001b[1;31mNameError\u001b[0m: name 'thislist' is not defined"
     ]
    }
   ],
   "source": [
    "#the del keyword can also delet the list completely:\n",
    "\n",
    "thislist = ['apple','banana','cherry']\n",
    "del thislist\n",
    "print(thislist) #nthis will cause an error because \"thislist\" no longer exists"
   ]
  },
  {
   "cell_type": "code",
   "execution_count": null,
   "metadata": {},
   "outputs": [],
   "source": [
    "#The clear() method empties the list:\n",
    "\n",
    "thislist = ['apple','banana','cherry']\n",
    "thislist.clear()\n",
    "print(thislist)"
   ]
  },
  {
   "cell_type": "code",
   "execution_count": 8,
   "metadata": {},
   "outputs": [
    {
     "name": "stdout",
     "output_type": "stream",
     "text": [
      "('apple', 'banana', 'cherry')\n"
     ]
    }
   ],
   "source": [
    "# list()constructor\n",
    "# it is also possible to use the list() constructor to make a list:\n",
    "# using the list() constructor to make a list:\n",
    "\n",
    "thislist = (('apple','banana','cherry')) # note the double round brackets\n",
    "print(thislist)"
   ]
  },
  {
   "cell_type": "code",
   "execution_count": 9,
   "metadata": {},
   "outputs": [
    {
     "name": "stdout",
     "output_type": "stream",
     "text": [
      "['cherry', 'banana', 'apple']\n"
     ]
    }
   ],
   "source": [
    "#reverse list\n",
    "\n",
    "thislist = ['apple','banana','cherry']\n",
    "thislist.reverse()\n",
    "print(thislist)"
   ]
  },
  {
   "cell_type": "code",
   "execution_count": 10,
   "metadata": {},
   "outputs": [
    {
     "name": "stdout",
     "output_type": "stream",
     "text": [
      "['apple', 'banana', 'cherry']\n"
     ]
    }
   ],
   "source": [
    "#sort the list\n",
    "thislist = ['apple','banana','cherry']\n",
    "thislist.sort()\n",
    "print(thislist)"
   ]
  },
  {
   "cell_type": "markdown",
   "metadata": {},
   "source": [
    "# Python Tupels ()                                                         @1:01:16 minuts\n",
    "\n",
    "\n",
    "pyhton as two built-in methpod you can use on tuples\n",
    "\n",
    "count() = return the number of times a specified value occers in a tuple.\n",
    "index() = searches th e tuple for a specified value and returns the position of where it was found."
   ]
  },
  {
   "cell_type": "code",
   "execution_count": 11,
   "metadata": {},
   "outputs": [
    {
     "name": "stdout",
     "output_type": "stream",
     "text": [
      "('apple', 'banana', 'cherry')\n"
     ]
    }
   ],
   "source": [
    "#Python Tupels\n",
    "# Atupels is a collection of which is orderdand unchangeable. in Python tuples are written with round brackets.\n",
    "#Create tuples\n",
    "\n",
    "thistuple = ('apple','banana','cherry')\n",
    "print(thistuple)\n"
   ]
  },
  {
   "cell_type": "code",
   "execution_count": 12,
   "metadata": {},
   "outputs": [
    {
     "name": "stdout",
     "output_type": "stream",
     "text": [
      "banana\n"
     ]
    }
   ],
   "source": [
    "# Access Tuples items:\n",
    "#you can access tuples items by red=ferring to the index nu,ber ,inside square brackets,\n",
    "#Return the item in position 1:\n",
    "\n",
    "thistuple = ('apple','banana','cherry')\n",
    "print(thistuple[1])"
   ]
  },
  {
   "cell_type": "code",
   "execution_count": 13,
   "metadata": {},
   "outputs": [
    {
     "ename": "TypeError",
     "evalue": "'tuple' object does not support item assignment",
     "output_type": "error",
     "traceback": [
      "\u001b[1;31m---------------------------------------------------------------------------\u001b[0m",
      "\u001b[1;31mTypeError\u001b[0m                                 Traceback (most recent call last)",
      "\u001b[1;32m<ipython-input-13-461348476420>\u001b[0m in \u001b[0;36m<module>\u001b[1;34m\u001b[0m\n\u001b[0;32m      4\u001b[0m \u001b[1;33m\u001b[0m\u001b[0m\n\u001b[0;32m      5\u001b[0m \u001b[0mthistuple\u001b[0m \u001b[1;33m=\u001b[0m \u001b[1;33m(\u001b[0m\u001b[1;34m'apple'\u001b[0m\u001b[1;33m,\u001b[0m\u001b[1;34m'banana'\u001b[0m\u001b[1;33m,\u001b[0m\u001b[1;34m'cherry'\u001b[0m\u001b[1;33m)\u001b[0m\u001b[1;33m\u001b[0m\u001b[1;33m\u001b[0m\u001b[0m\n\u001b[1;32m----> 6\u001b[1;33m \u001b[0mthistuple\u001b[0m\u001b[1;33m[\u001b[0m\u001b[1;36m1\u001b[0m\u001b[1;33m]\u001b[0m\u001b[1;33m=\u001b[0m\u001b[1;34m\"blackcurrant\"\u001b[0m   \u001b[1;31m# the values will remains the same :\u001b[0m\u001b[1;33m\u001b[0m\u001b[1;33m\u001b[0m\u001b[0m\n\u001b[0m\u001b[0;32m      7\u001b[0m \u001b[0mprint\u001b[0m\u001b[1;33m(\u001b[0m\u001b[0mthistuple\u001b[0m\u001b[1;33m)\u001b[0m\u001b[1;33m\u001b[0m\u001b[1;33m\u001b[0m\u001b[0m\n",
      "\u001b[1;31mTypeError\u001b[0m: 'tuple' object does not support item assignment"
     ]
    }
   ],
   "source": [
    "# Change tuple values :\n",
    "# once a tuple is created,you cannot change its values.tuples are unchageable.\n",
    "#you cannot change values in  A tuples\n",
    "\n",
    "thistuple = ('apple','banana','cherry')\n",
    "thistuple[1]=\"blackcurrant\"   # the values will remains the same :\n",
    "print(thistuple)"
   ]
  },
  {
   "cell_type": "code",
   "execution_count": 18,
   "metadata": {},
   "outputs": [
    {
     "name": "stdout",
     "output_type": "stream",
     "text": [
      "apple\n",
      "banana\n",
      "cherry\n"
     ]
    }
   ],
   "source": [
    "# Loop Through a tuples\n",
    "# you can loop through the items the tuple items by using a for loop;\n",
    "#iterated through the items and print the values;\n",
    "\n",
    "thistuple = ('apple','banana','cherry')\n",
    "for x in thistuple:\n",
    "    print(x)"
   ]
  },
  {
   "cell_type": "code",
   "execution_count": 19,
   "metadata": {},
   "outputs": [
    {
     "name": "stdout",
     "output_type": "stream",
     "text": [
      "('apple', 'banana', 'cherry')\n",
      "('apple', 'banana', 'cherry')\n",
      "('apple', 'banana', 'cherry')\n"
     ]
    }
   ],
   "source": [
    "thistuple = ('apple','banana','cherry')  #unkown practieces\n",
    "for x in thistuple:\n",
    "    print(thistuple)"
   ]
  },
  {
   "cell_type": "code",
   "execution_count": 20,
   "metadata": {},
   "outputs": [
    {
     "name": "stdout",
     "output_type": "stream",
     "text": [
      "yes,'apple' is in the fruits tuple\n"
     ]
    }
   ],
   "source": [
    "# Check if item Exists:\n",
    "#To determine if a specified item is present in a tuple use the in keyword:\n",
    "# Check if \"apple\" is present in the tuple\n",
    "\n",
    "thistuple = ('apple','banana','cherry')\n",
    "if \"apple\" in thistuple:\n",
    "    print(\"yes,'apple' is in the fruits tuple\")"
   ]
  },
  {
   "cell_type": "code",
   "execution_count": 22,
   "metadata": {},
   "outputs": [
    {
     "name": "stdout",
     "output_type": "stream",
     "text": [
      "3\n"
     ]
    }
   ],
   "source": [
    "# tuple length ;\n",
    "# to determine how many items a list have ,use the len() method:\n",
    "# print the number of items in the tuple\n",
    "\n",
    "thistuple = ('apple','banana','cherry')\n",
    "print(len(thistuple))"
   ]
  },
  {
   "cell_type": "code",
   "execution_count": 23,
   "metadata": {},
   "outputs": [
    {
     "ename": "TypeError",
     "evalue": "'tuple' object does not support item assignment",
     "output_type": "error",
     "traceback": [
      "\u001b[1;31m---------------------------------------------------------------------------\u001b[0m",
      "\u001b[1;31mTypeError\u001b[0m                                 Traceback (most recent call last)",
      "\u001b[1;32m<ipython-input-23-30cd28c8544a>\u001b[0m in \u001b[0;36m<module>\u001b[1;34m\u001b[0m\n\u001b[0;32m      3\u001b[0m \u001b[1;31m# you cannot add items to a tuples\u001b[0m\u001b[1;33m\u001b[0m\u001b[1;33m\u001b[0m\u001b[1;33m\u001b[0m\u001b[0m\n\u001b[0;32m      4\u001b[0m \u001b[0mthistuple\u001b[0m \u001b[1;33m=\u001b[0m \u001b[1;33m(\u001b[0m\u001b[1;34m'apple'\u001b[0m\u001b[1;33m,\u001b[0m\u001b[1;34m'banana'\u001b[0m\u001b[1;33m,\u001b[0m\u001b[1;34m'cherry'\u001b[0m\u001b[1;33m)\u001b[0m\u001b[1;33m\u001b[0m\u001b[1;33m\u001b[0m\u001b[0m\n\u001b[1;32m----> 5\u001b[1;33m \u001b[0mthistuple\u001b[0m\u001b[1;33m[\u001b[0m\u001b[1;36m3\u001b[0m\u001b[1;33m]\u001b[0m\u001b[1;33m=\u001b[0m\u001b[1;34m\"orange\"\u001b[0m \u001b[1;31m# this will raise an error\u001b[0m\u001b[1;33m\u001b[0m\u001b[1;33m\u001b[0m\u001b[0m\n\u001b[0m\u001b[0;32m      6\u001b[0m \u001b[0mprint\u001b[0m\u001b[1;33m(\u001b[0m\u001b[0mthistuple\u001b[0m\u001b[1;33m)\u001b[0m\u001b[1;33m\u001b[0m\u001b[1;33m\u001b[0m\u001b[0m\n",
      "\u001b[1;31mTypeError\u001b[0m: 'tuple' object does not support item assignment"
     ]
    }
   ],
   "source": [
    "# Add items in the tuple\n",
    "# once a tuple is created.you cannot add items to it ,tuples are unchageable\n",
    "# you cannot add items to a tuples\n",
    "thistuple = ('apple','banana','cherry')\n",
    "thistuple[3]=\"orange\" # this will raise an error\n",
    "print(thistuple)"
   ]
  },
  {
   "cell_type": "code",
   "execution_count": 24,
   "metadata": {},
   "outputs": [
    {
     "ename": "NameError",
     "evalue": "name 'thistuple' is not defined",
     "output_type": "error",
     "traceback": [
      "\u001b[1;31m---------------------------------------------------------------------------\u001b[0m",
      "\u001b[1;31mNameError\u001b[0m                                 Traceback (most recent call last)",
      "\u001b[1;32m<ipython-input-24-6cd22fc205e1>\u001b[0m in \u001b[0;36m<module>\u001b[1;34m\u001b[0m\n\u001b[0;32m      5\u001b[0m \u001b[0mthistuple\u001b[0m \u001b[1;33m=\u001b[0m \u001b[1;33m(\u001b[0m\u001b[1;34m'apple'\u001b[0m\u001b[1;33m,\u001b[0m\u001b[1;34m'banana'\u001b[0m\u001b[1;33m,\u001b[0m\u001b[1;34m'cherry'\u001b[0m\u001b[1;33m)\u001b[0m\u001b[1;33m\u001b[0m\u001b[1;33m\u001b[0m\u001b[0m\n\u001b[0;32m      6\u001b[0m \u001b[1;32mdel\u001b[0m \u001b[0mthistuple\u001b[0m\u001b[1;33m\u001b[0m\u001b[1;33m\u001b[0m\u001b[0m\n\u001b[1;32m----> 7\u001b[1;33m \u001b[0mprint\u001b[0m\u001b[1;33m(\u001b[0m\u001b[0mthistuple\u001b[0m\u001b[1;33m)\u001b[0m\u001b[1;33m\u001b[0m\u001b[1;33m\u001b[0m\u001b[0m\n\u001b[0m",
      "\u001b[1;31mNameError\u001b[0m: name 'thistuple' is not defined"
     ]
    }
   ],
   "source": [
    "# Remove item in the tuple\n",
    "# tuples are unchangeable so cannot remove items fro it .but you can delet the tuple completely\n",
    "# THE del keyword can delet the tuple completely:\n",
    "\n",
    "thistuple = ('apple','banana','cherry')\n",
    "del thistuple  # this will rasie an error because the tuple no longer exists\n",
    "print(thistuple)"
   ]
  },
  {
   "cell_type": "code",
   "execution_count": 25,
   "metadata": {},
   "outputs": [
    {
     "name": "stdout",
     "output_type": "stream",
     "text": [
      "('apple', 'banana', 'cherry')\n"
     ]
    }
   ],
   "source": [
    "# The tuple() constructor:\n",
    "# its is also possible to usse the tuple () constructor to make a tuple\n",
    "# Using the tuple () method to make a tuple\n",
    "\n",
    "thistuple = (('apple','banana','cherry')) # note :  the double round -brackes\n",
    "print(thistuple)"
   ]
  },
  {
   "cell_type": "markdown",
   "metadata": {},
   "source": [
    "# Python Sets\n",
    "PYTHON HAS TWO BUILT -IN METHOD YOU CAN USE ON TUPLES\n",
    "\n",
    "add() = adds an elements to the set\n",
    "clear() = Removes all the elements from the set\n",
    "copy() = returns a copy of the set\n",
    "difference_update() = removes the items in this set that are also included in another specified item\n",
    "discard() = remove the specified item\n",
    "intersection ()= returns the intersection of two other set\n",
    "issubset() = returns wherther another set contains set or not\n",
    "pop() = removes an element from the set\n"
   ]
  },
  {
   "cell_type": "code",
   "execution_count": 26,
   "metadata": {},
   "outputs": [
    {
     "name": "stdout",
     "output_type": "stream",
     "text": [
      "{'apple', 'banana', 'cherry'}\n"
     ]
    }
   ],
   "source": [
    "# python sets \n",
    "# a set is a collection which is unorderd and unindexed.in pyhto setss are written with curly brackets.\n",
    "#creat a set:\n",
    "\n",
    "thisset = {'apple','banana','cherry'}\n",
    "print(thisset)"
   ]
  },
  {
   "cell_type": "code",
   "execution_count": 32,
   "metadata": {},
   "outputs": [
    {
     "name": "stdout",
     "output_type": "stream",
     "text": [
      "apple\n",
      "banana\n",
      "cherry\n"
     ]
    }
   ],
   "source": [
    "#Access inn the items:\n",
    "#you cannot access items in a set by referring to an index, since sets are unorders the the items has no index \n",
    "#but you can loop through the set items a for loop,or a specified value is present in a set ,by using the in keyword\n",
    "#loop through the set and print the values:\n",
    "\n",
    "thisset = {'apple','banana','cherry'}\n",
    "for x in thisset:\n",
    "    print(x)"
   ]
  },
  {
   "cell_type": "code",
   "execution_count": 33,
   "metadata": {},
   "outputs": [
    {
     "name": "stdout",
     "output_type": "stream",
     "text": [
      "{'apple', 'banana', 'cherry'}\n",
      "{'apple', 'banana', 'cherry'}\n",
      "{'apple', 'banana', 'cherry'}\n"
     ]
    }
   ],
   "source": [
    "thisset = {'apple','banana','cherry'}\n",
    "for x in thisset:\n",
    "    print(thisset)"
   ]
  },
  {
   "cell_type": "code",
   "execution_count": 31,
   "metadata": {},
   "outputs": [
    {
     "name": "stdout",
     "output_type": "stream",
     "text": [
      "True\n"
     ]
    }
   ],
   "source": [
    "# check if \"banana\" is present in the set\"\n",
    "\n",
    "thisset = {'apple','banana','cherry'}\n",
    "print(\"banana\" in thisset)"
   ]
  },
  {
   "cell_type": "code",
   "execution_count": 34,
   "metadata": {},
   "outputs": [
    {
     "name": "stdout",
     "output_type": "stream",
     "text": [
      "{'apple', 'orange', 'banana', 'cherry'}\n"
     ]
    }
   ],
   "source": [
    "# Change item :\n",
    "# once a set is created ,you  cannot change items,but you can add new items:\n",
    "# add items\n",
    "# to add one item to a set use the add() method\n",
    "# to add more than one item to a set  use the update() method\n",
    "# add an item to aset, using the add () method:\n",
    "\n",
    "thisset = {'apple','banana','cherry'}\n",
    "thisset.add(\"orange\")\n",
    "print(thisset)"
   ]
  },
  {
   "cell_type": "code",
   "execution_count": 35,
   "metadata": {},
   "outputs": [
    {
     "name": "stdout",
     "output_type": "stream",
     "text": [
      "{'apple', 'mango', 'cherry', 'grapes', 'orange', 'banana'}\n"
     ]
    }
   ],
   "source": [
    "# Add multiple items to set ,using the update() method:\n",
    "\n",
    "thisset = {'apple','banana','cherry'}\n",
    "thisset.update(['orange','mango','grapes'])\n",
    "print(thisset)"
   ]
  },
  {
   "cell_type": "code",
   "execution_count": 37,
   "metadata": {},
   "outputs": [
    {
     "name": "stdout",
     "output_type": "stream",
     "text": [
      "3\n"
     ]
    }
   ],
   "source": [
    "# get the length of ths set\n",
    "#to determine hoe many items a set have ,use the len() method.\n",
    "#get number of item in a set:\n",
    "\n",
    "thisset = {'apple','banana','cherry'}\n",
    "print(len(thisset))"
   ]
  },
  {
   "cell_type": "code",
   "execution_count": 39,
   "metadata": {},
   "outputs": [
    {
     "name": "stdout",
     "output_type": "stream",
     "text": [
      "{'apple', 'cherry'}\n"
     ]
    }
   ],
   "source": [
    "# Remove item:\n",
    "# to remove an item in a set ,use the remove(), or the discard() method.\n",
    "#Remove\"banana\" by using the remove() method:\n",
    "\n",
    "thisset = {'apple','banana','cherry'}\n",
    "thisset.remove(\"banana\")\n",
    "print(thisset)\n",
    "\n",
    "#Note: if the item to remove does not exist, remove() will raise an error"
   ]
  },
  {
   "cell_type": "code",
   "execution_count": 41,
   "metadata": {},
   "outputs": [
    {
     "name": "stdout",
     "output_type": "stream",
     "text": [
      "{'apple', 'cherry'}\n"
     ]
    }
   ],
   "source": [
    "# Remove \"banana\" by using the discard() method:\n",
    "\n",
    "thisset = {'apple','banana','cherry'}\n",
    "thisset.discard(\"banana\")\n",
    "print(thisset)\n",
    "# Note: if the item to remove does not exist,discard () will  NOT raise an error\n"
   ]
  },
  {
   "cell_type": "code",
   "execution_count": 42,
   "metadata": {},
   "outputs": [
    {
     "name": "stdout",
     "output_type": "stream",
     "text": [
      "apple\n",
      "{'banana', 'cherry'}\n"
     ]
    }
   ],
   "source": [
    "# you can also use the pop(), method to remove an item, but this method will remove the last item, Remember that sets are\n",
    "#unordered ,so you will not know what item that gets value of pop() method is the removed item.\n",
    "#Remove thelast item by using the pop() method:\n",
    "\n",
    "thisset = {'apple','banana','cherry'}\n",
    "x =thisset.pop()\n",
    "print(x)\n",
    "print(thisset)\n",
    "\n",
    "#Note: Sets are unorderd ,so when usig the pop() method, you will not know which item that gets removed\n"
   ]
  },
  {
   "cell_type": "code",
   "execution_count": 43,
   "metadata": {},
   "outputs": [
    {
     "name": "stdout",
     "output_type": "stream",
     "text": [
      "set()\n"
     ]
    }
   ],
   "source": [
    "# the clear() method empties the set:\n",
    "\n",
    "thisset = {'apple','banana','cherry'}\n",
    "thisset.clear()\n",
    "print(thisset)"
   ]
  },
  {
   "cell_type": "code",
   "execution_count": 45,
   "metadata": {},
   "outputs": [
    {
     "ename": "NameError",
     "evalue": "name 'thisset' is not defined",
     "output_type": "error",
     "traceback": [
      "\u001b[1;31m---------------------------------------------------------------------------\u001b[0m",
      "\u001b[1;31mNameError\u001b[0m                                 Traceback (most recent call last)",
      "\u001b[1;32m<ipython-input-45-0d9fae771a0c>\u001b[0m in \u001b[0;36m<module>\u001b[1;34m\u001b[0m\n\u001b[0;32m      2\u001b[0m \u001b[0mthisset\u001b[0m \u001b[1;33m=\u001b[0m \u001b[1;33m{\u001b[0m\u001b[1;34m'apple'\u001b[0m\u001b[1;33m,\u001b[0m\u001b[1;34m'banana'\u001b[0m\u001b[1;33m,\u001b[0m\u001b[1;34m'cherry'\u001b[0m\u001b[1;33m}\u001b[0m\u001b[1;33m\u001b[0m\u001b[1;33m\u001b[0m\u001b[0m\n\u001b[0;32m      3\u001b[0m \u001b[1;32mdel\u001b[0m \u001b[0mthisset\u001b[0m\u001b[1;33m\u001b[0m\u001b[1;33m\u001b[0m\u001b[0m\n\u001b[1;32m----> 4\u001b[1;33m \u001b[0mprint\u001b[0m\u001b[1;33m(\u001b[0m\u001b[0mthisset\u001b[0m\u001b[1;33m)\u001b[0m\u001b[1;33m\u001b[0m\u001b[1;33m\u001b[0m\u001b[0m\n\u001b[0m",
      "\u001b[1;31mNameError\u001b[0m: name 'thisset' is not defined"
     ]
    }
   ],
   "source": [
    "#del keyword will delete the set completely\n",
    "\n",
    "thisset = {'apple','banana','cherry'}\n",
    "del thisset\n",
    "print(thisset)"
   ]
  },
  {
   "cell_type": "code",
   "execution_count": 46,
   "metadata": {},
   "outputs": [
    {
     "name": "stdout",
     "output_type": "stream",
     "text": [
      "{'apple', 'banana', 'cherry'}\n"
     ]
    }
   ],
   "source": [
    "# The set() constructor:\n",
    "#it is also possible to use the set () constructor to make a set\n",
    "# Using the set() constructor to make a set:\n",
    "\n",
    "thisset = set(('apple','banana','cherry')) # note the double round-brackets\n",
    "print(thisset)"
   ]
  },
  {
   "cell_type": "markdown",
   "metadata": {},
   "source": [
    "# Python Dictionaries\n",
    "PYTHON HAS A SET OF BUILT IN METHOD YOU CAN USE ON DICTIONARY\n",
    "\n",
    "clear()= remove all the elements from the dictionary\n",
    "copy()= return a copy of the dictionary\n",
    "fromkey()= return a dictionary with specified keys and values\n",
    "get()= return the values of the specified key\n",
    "item()= Return a list contains the tuple for each key value pair\n",
    "keys() = return a list containing  the dictionary keys\n",
    "update() = update the diactionary with specified key-value pair\n",
    "pop() = removes an element from the dictionary"
   ]
  },
  {
   "cell_type": "code",
   "execution_count": 50,
   "metadata": {},
   "outputs": [
    {
     "name": "stdout",
     "output_type": "stream",
     "text": [
      "{'barand': 'ford', 'model': 'mustang', 'year': '1964'}\n"
     ]
    }
   ],
   "source": [
    "# A Dictionaries is a collection which is unoreded, changebale and indexed .in Pyhton dictionaries are written with \n",
    "#curly brackets, nad they have keys and values.\n",
    "#create and print a dictionary\n",
    "thisdict = {\n",
    "    \"barand\":\"ford\",\n",
    "            \"model\":\"mustang\",\n",
    "            \"year\":\"1964\"\n",
    "}\n",
    "print(thisdict)\n"
   ]
  },
  {
   "cell_type": "code",
   "execution_count": 53,
   "metadata": {},
   "outputs": [
    {
     "name": "stdout",
     "output_type": "stream",
     "text": [
      "mustang\n"
     ]
    }
   ],
   "source": [
    "# Accessingitem:\n",
    "# you can access the item of a dictionary by referring to its key name,inside square bracket:\n",
    "# get the value of the \"model\" key:                                                                         1:17:54minuts\n",
    "\n",
    "x = thisdict[\"model\"]\n",
    "print(x)"
   ]
  },
  {
   "cell_type": "code",
   "execution_count": 56,
   "metadata": {},
   "outputs": [
    {
     "name": "stdout",
     "output_type": "stream",
     "text": [
      "1964\n"
     ]
    }
   ],
   "source": [
    "#there is also a method called get() that will give you the same result\n",
    "# Get the value of the \"model key\"\n",
    "\n",
    "x = thisdict.get(\"year\")\n",
    "print(x)"
   ]
  },
  {
   "cell_type": "code",
   "execution_count": 59,
   "metadata": {},
   "outputs": [
    {
     "name": "stdout",
     "output_type": "stream",
     "text": [
      "{'barand': 'ford', 'model': 'mustang', 'year': 2018}\n"
     ]
    }
   ],
   "source": [
    "#Change values:\n",
    "# you can change the value of a specific item by reffering to its key name:\n",
    "#change the \"year\" to 2018\n",
    "\n",
    "thisdict = {\n",
    "    \"barand\":\"ford\",\n",
    "            \"model\":\"mustang\",\n",
    "            \"year\":\"1964\"\n",
    "}\n",
    "thisdict[\"year\"] = 2018\n",
    "print(thisdict)"
   ]
  },
  {
   "cell_type": "code",
   "execution_count": 62,
   "metadata": {},
   "outputs": [
    {
     "name": "stdout",
     "output_type": "stream",
     "text": [
      "barand\n",
      "model\n",
      "year\n"
     ]
    }
   ],
   "source": [
    "# lOOP through a dictionary:\n",
    "# you can loop through a dictionary by using a for loop\n",
    "# when looping through a dictionary , the return value are the keys of the dictionary ,but therer  are method to return the value as well.\n",
    "# i print all keys names in the dictionary on by one:\n",
    "\n",
    "thisdict = {\"barand\":\"ford\",\"model\":\"mustang\",\"year\":\"1964\"}\n",
    "for x in thisdict:\n",
    "    print(x)"
   ]
  },
  {
   "cell_type": "code",
   "execution_count": 63,
   "metadata": {},
   "outputs": [
    {
     "name": "stdout",
     "output_type": "stream",
     "text": [
      "ford\n",
      "mustang\n",
      "1964\n"
     ]
    }
   ],
   "source": [
    "#print all value in the dictonary,one by one\n",
    "for x in thisdict:\n",
    "    print(thisdict[x])"
   ]
  },
  {
   "cell_type": "code",
   "execution_count": 65,
   "metadata": {},
   "outputs": [
    {
     "name": "stdout",
     "output_type": "stream",
     "text": [
      "ford\n",
      "mustang\n",
      "1964\n"
     ]
    }
   ],
   "source": [
    "#you can also use the value() function to return value of a dictionary:\n",
    "for x in thisdict.values():\n",
    "    print(x)"
   ]
  },
  {
   "cell_type": "code",
   "execution_count": 67,
   "metadata": {},
   "outputs": [
    {
     "name": "stdout",
     "output_type": "stream",
     "text": [
      "barand ford\n",
      "model mustang\n",
      "year 1964\n"
     ]
    }
   ],
   "source": [
    "#Loop through both keys and values, by using the items() function:\n",
    "for x,y in thisdict.items():\n",
    "    print(x,y)"
   ]
  },
  {
   "cell_type": "code",
   "execution_count": 72,
   "metadata": {},
   "outputs": [
    {
     "name": "stdout",
     "output_type": "stream",
     "text": [
      "yes,'model' is one of the keys in the thisdict dictionary\n"
     ]
    }
   ],
   "source": [
    "# Check it key Exists:\n",
    "# to determind if a specified key is present in a dictionary use the in keyword:\n",
    "# ckeck 'model'is present in the dictinary:\n",
    "\n",
    "thisdict = {\n",
    "    \"barand\":\"ford\",\n",
    "            \"model\":\"mustang\",\n",
    "            \"year\":\"1964\"\n",
    "}\n",
    "if \"model\" in thisdict:\n",
    "    print(\"yes,'model' is one of the keys in the thisdict dictionary\")"
   ]
  },
  {
   "cell_type": "code",
   "execution_count": 73,
   "metadata": {},
   "outputs": [
    {
     "name": "stdout",
     "output_type": "stream",
     "text": [
      "3\n"
     ]
    }
   ],
   "source": [
    "# Dectionary length:\n",
    "# to determine how many items(key-value pairs) a dictionary have,use the len() method.\n",
    "# print the number of item in the dictionary\n",
    "print(len(thisdict))"
   ]
  },
  {
   "cell_type": "code",
   "execution_count": 74,
   "metadata": {},
   "outputs": [
    {
     "name": "stdout",
     "output_type": "stream",
     "text": [
      "{'barand': 'ford', 'model': 'mustang', 'year': '1964', 'color': 'red'}\n"
     ]
    }
   ],
   "source": [
    "# Adding items:\n",
    "# Adding an item  to the dictionary is donr=e by using a new index key and assingning  a value to it:\n",
    "thisdict = {\n",
    "    \"barand\":\"ford\",\n",
    "            \"model\":\"mustang\",\n",
    "            \"year\":\"1964\"\n",
    "}\n",
    "thisdict[\"color\"] = \"red\"\n",
    "print(thisdict)"
   ]
  },
  {
   "cell_type": "code",
   "execution_count": 76,
   "metadata": {},
   "outputs": [
    {
     "name": "stdout",
     "output_type": "stream",
     "text": [
      "{'barand': 'ford', 'year': '1964'}\n"
     ]
    }
   ],
   "source": [
    "#Removing \n",
    "#There are several methods to remove items from a dictionary\n",
    "# the pop() method removes the items with the specified key name:\n",
    "# the pop() method removes the item with the specified key name:\n",
    "thisdict = {\n",
    "    \"barand\":\"ford\",\n",
    "            \"model\":\"mustang\",\n",
    "            \"year\":\"1964\"\n",
    "}\n",
    "\n",
    "thisdict.pop(\"model\")\n",
    "print(thisdict)"
   ]
  },
  {
   "cell_type": "code",
   "execution_count": 77,
   "metadata": {},
   "outputs": [
    {
     "name": "stdout",
     "output_type": "stream",
     "text": [
      "{'barand': 'ford', 'model': 'mustang'}\n"
     ]
    }
   ],
   "source": [
    "# the popitem() method removes the last inserted item( in versiioj before 3.7 a randam items is removed instead):\n",
    "\n",
    "thisdict = {\n",
    "    \"barand\":\"ford\",\n",
    "            \"model\":\"mustang\",\n",
    "            \"year\":\"1964\"\n",
    "}\n",
    "\n",
    "thisdict.popitem()\n",
    "print(thisdict)"
   ]
  },
  {
   "cell_type": "code",
   "execution_count": 81,
   "metadata": {},
   "outputs": [
    {
     "ename": "SyntaxError",
     "evalue": "can't delete function call (<ipython-input-81-6069a15452d5>, line 8)",
     "output_type": "error",
     "traceback": [
      "\u001b[1;36m  File \u001b[1;32m\"<ipython-input-81-6069a15452d5>\"\u001b[1;36m, line \u001b[1;32m8\u001b[0m\n\u001b[1;33m    del thisdict(\"model\")\u001b[0m\n\u001b[1;37m       ^\u001b[0m\n\u001b[1;31mSyntaxError\u001b[0m\u001b[1;31m:\u001b[0m can't delete function call\n"
     ]
    }
   ],
   "source": [
    "# the del keyword removes the item with the specified key name:\n",
    "thisdict = {\n",
    "    \"barand\":\"ford\",\n",
    "            \"model\":\"mustang\",\n",
    "            \"year\":\"1964\"\n",
    "}\n",
    "\n",
    "del thisdict[\"model\"] \n",
    "print(thisdict)   # this will cause an error beacuse \"thisdict\" no longer exists:\n"
   ]
  },
  {
   "cell_type": "code",
   "execution_count": 82,
   "metadata": {},
   "outputs": [
    {
     "name": "stdout",
     "output_type": "stream",
     "text": [
      "{}\n"
     ]
    }
   ],
   "source": [
    "thisdict = {\n",
    "    \"barand\":\"ford\",\n",
    "            \"model\":\"mustang\",\n",
    "            \"year\":\"1964\"\n",
    "}\n",
    "\n",
    "thisdict.clear()\n",
    "print(thisdict)"
   ]
  },
  {
   "cell_type": "code",
   "execution_count": 85,
   "metadata": {},
   "outputs": [
    {
     "name": "stdout",
     "output_type": "stream",
     "text": [
      "{}\n"
     ]
    }
   ],
   "source": [
    "#the clear() keyword empties the dictionary:\n",
    "thisdict = {\n",
    "    \"barand\":\"ford\",\n",
    "            \"model\":\"mustang\",\n",
    "            \"year\":\"1964\"\n",
    "}\n",
    "\n",
    "thisdict.clear()\n",
    "print(thisdict)"
   ]
  },
  {
   "cell_type": "code",
   "execution_count": 88,
   "metadata": {},
   "outputs": [
    {
     "name": "stdout",
     "output_type": "stream",
     "text": [
      "{'barand': 'ford', 'model': 'mustang', 'year': '1964'}\n"
     ]
    }
   ],
   "source": [
    "# the dict() constructor:\n",
    "# it is also possible to use the dict() constructor to make a dictionary \n",
    "thisdict = dict(barand=\"ford\",model=\"mustang\",year=\"1964\")\n",
    "#Note that keyword are not string literals\n",
    "#Note the use of equal rather than colon for the assignment\n",
    "print(thisdict)"
   ]
  },
  {
   "cell_type": "markdown",
   "metadata": {},
   "source": [
    "# Condition Statements "
   ]
  },
  {
   "cell_type": "code",
   "execution_count": 90,
   "metadata": {},
   "outputs": [
    {
     "name": "stdout",
     "output_type": "stream",
     "text": [
      "b is greater than a\n"
     ]
    }
   ],
   "source": [
    "# condition Statement an \"if statement\" is written by using th eif keyword\n",
    "#if statement \n",
    "a =33\n",
    "b= 200\n",
    "if b>a:\n",
    "    print('b is greater than a')\n",
    "# in this exaample we use two variable a&b ,which are used as part of the if statment to test whether b is greather than a.\n",
    "#as a is 33,and b is 200,wwe know that 200 is greater than 33, and we print to screen that\" b is greater than a\"\n"
   ]
  },
  {
   "cell_type": "code",
   "execution_count": 95,
   "metadata": {},
   "outputs": [
    {
     "ename": "IndentationError",
     "evalue": "expected an indented block (<ipython-input-95-00513dd95857>, line 8)",
     "output_type": "error",
     "traceback": [
      "\u001b[1;36m  File \u001b[1;32m\"<ipython-input-95-00513dd95857>\"\u001b[1;36m, line \u001b[1;32m8\u001b[0m\n\u001b[1;33m    print('b is greater than a')# you will get an error:                                                      time 1:28:38\u001b[0m\n\u001b[1;37m        ^\u001b[0m\n\u001b[1;31mIndentationError\u001b[0m\u001b[1;31m:\u001b[0m expected an indented block\n"
     ]
    }
   ],
   "source": [
    "# Indentaion\n",
    "#pyhton relies on indentation, using whitespace ,to define scope in the code.other programming languages oftenuse curly-bracket\n",
    "#for this purpose\n",
    "# if statement ,without indentation(will raise ane error)\n",
    "a = 33\n",
    "b = 200\n",
    "if b > a:\n",
    "print('b is greater than a')# you will get an error: dont  give tab space  here for getting error             time 1:28:38"
   ]
  },
  {
   "cell_type": "code",
   "execution_count": 101,
   "metadata": {},
   "outputs": [
    {
     "name": "stdout",
     "output_type": "stream",
     "text": [
      "a and b are euqual\n"
     ]
    }
   ],
   "source": [
    "#Elif\n",
    "# the elif keyword is python way of say \"if the previous conditions were not true,then try this condition\"\n",
    "\n",
    "a =33\n",
    "b= 33\n",
    "if b>a:\n",
    "    print('b is greater than a')\n",
    "elif a==b:          #here dont give tap space then only u can get a answer\n",
    "    print(\"a and b are euqual\")\n",
    "# in this example a is equalto b so the first condition is not true ,but the elif condition is true ,so we print to screen that \n",
    "# \"a and b are equal\""
   ]
  },
  {
   "cell_type": "code",
   "execution_count": 102,
   "metadata": {},
   "outputs": [
    {
     "name": "stdout",
     "output_type": "stream",
     "text": [
      "a is greater than b\n"
     ]
    }
   ],
   "source": [
    "#Else \n",
    "# the else keyword catches anything which isn'tcaught by the precending condition\n",
    "\n",
    "a= 200\n",
    "b= 33\n",
    "if b>a:\n",
    "    print(\"b is greater than a\")\n",
    "elif a==b:\n",
    "    print(\"a is b are equal\")\n",
    "else:\n",
    "    print(\"a is greater than b\")                                                                     #1:30:20time"
   ]
  },
  {
   "cell_type": "code",
   "execution_count": 105,
   "metadata": {},
   "outputs": [
    {
     "name": "stdout",
     "output_type": "stream",
     "text": [
      "a is grsster than b\n"
     ]
    }
   ],
   "source": [
    "# short hand if\n",
    "# if you have only one statement to execute,one for it, you can put it on the same line as the if statement:\n",
    "# one line if else statme\n",
    "if a>b: print(\"a is grsster than b\")"
   ]
  },
  {
   "cell_type": "code",
   "execution_count": null,
   "metadata": {},
   "outputs": [],
   "source": [
    "# short hand ....Else\n",
    "# if you have only one statement to execute,one for it, and one for else ,you can put it all on the same line.\n",
    "# one line if else statment:\n",
    "\n",
    "print(\"A\")if a>b else print(\"B\")"
   ]
  },
  {
   "cell_type": "code",
   "execution_count": 104,
   "metadata": {},
   "outputs": [
    {
     "name": "stdout",
     "output_type": "stream",
     "text": [
      "A\n"
     ]
    }
   ],
   "source": [
    "# you can also have mutiple else statement on the same line.\n",
    "#one line if else statement, with 3 conditions:\n",
    "\n",
    "print(\"A\")if a>b else print(\"=\")if a==b else print(\"b\")"
   ]
  },
  {
   "cell_type": "code",
   "execution_count": 112,
   "metadata": {},
   "outputs": [
    {
     "name": "stdout",
     "output_type": "stream",
     "text": [
      "both condition are true\n"
     ]
    }
   ],
   "source": [
    "# And\n",
    "#the and keyword is a logical operator,and is used to combine conditional statements.\n",
    "#test if a greater than b, AND if c is greater than a:\n",
    "a,b,c = 2,1,3\n",
    "if a>b and c>a:\n",
    "    print(\"both condition are true\")"
   ]
  },
  {
   "cell_type": "code",
   "execution_count": 113,
   "metadata": {},
   "outputs": [
    {
     "name": "stdout",
     "output_type": "stream",
     "text": [
      "at least one of the conditions are true\n"
     ]
    }
   ],
   "source": [
    "# OR\n",
    "# the or keyword is a logical operator.and is used to conditional statements\n",
    "# test if a is greater than b, OR if a is greater than c;\n",
    "if a>b or a>c:\n",
    "    print(\"at least one of the conditions are true\")"
   ]
  },
  {
   "cell_type": "markdown",
   "metadata": {},
   "source": [
    "# LOOP"
   ]
  },
  {
   "cell_type": "code",
   "execution_count": 115,
   "metadata": {},
   "outputs": [
    {
     "name": "stdout",
     "output_type": "stream",
     "text": [
      "1\n",
      "2\n",
      "3\n",
      "4\n",
      "5\n"
     ]
    }
   ],
   "source": [
    "# LOOPS\n",
    "# python has two primitive loop commands:\n",
    "# 1.while\n",
    "#2.for\n",
    "#the while loop\n",
    "#with the while loops we can execute a set of statement as long as a conditions is true\n",
    "# print i as long as i is less than 6:\n",
    "\n",
    "i = 1\n",
    "while i<6:\n",
    "    print(i)\n",
    "    i+=1\n",
    "#the wile loop requires  relevant to be ready ,in this example  we need to define an indexing variable. i. which we set to 1.\n"
   ]
  },
  {
   "cell_type": "code",
   "execution_count": 117,
   "metadata": {},
   "outputs": [
    {
     "name": "stdout",
     "output_type": "stream",
     "text": [
      "1\n",
      "2\n",
      "4\n",
      "5\n",
      "6\n"
     ]
    }
   ],
   "source": [
    "# the continue statement\n",
    "#with the continue statement we can stop the current iteration ,and continue with the next.\n",
    "# continue to the next iteration if i is 3:\n",
    "i=0\n",
    "while i<6:\n",
    "    i+=1\n",
    "    if i==3:\n",
    "        continue\n",
    "    print(i)"
   ]
  },
  {
   "cell_type": "code",
   "execution_count": 119,
   "metadata": {},
   "outputs": [
    {
     "name": "stdout",
     "output_type": "stream",
     "text": [
      "apple\n",
      "banana\n",
      "cherry\n"
     ]
    }
   ],
   "source": [
    "#python for loops\n",
    "# a for loops is used for iterating over a sequence (that is either a list,a tuple,a dictionary, a set, or s string).\n",
    "# this is less like the for keyword in other programming languvage and works more like an iteration method as found in \n",
    "# other objct - orintatiojn progrsmming languages.\n",
    "# with the for loop we can execute a set of statements, once for each item in alist,tuple,set etc.\n",
    "#print each fruit in a fruit list:\n",
    "fruit = [\"apple\",\"banana\",\"cherry\"]\n",
    "for x in fruit:\n",
    "    print(x)\n",
    "#the for loop does not require an indexing variable to set beforehand:\n"
   ]
  },
  {
   "cell_type": "code",
   "execution_count": 121,
   "metadata": {},
   "outputs": [
    {
     "name": "stdout",
     "output_type": "stream",
     "text": [
      "b\n",
      "a\n",
      "n\n",
      "a\n",
      "n\n",
      "a\n"
     ]
    }
   ],
   "source": [
    "# Looping Through a string\n",
    "# even string are iterable, they contains a sequence of characterss\n",
    "# LOOP through the lettters in the \"banana\"\n",
    "for x in \"banana\":\n",
    "    print(x)"
   ]
  },
  {
   "cell_type": "code",
   "execution_count": 127,
   "metadata": {},
   "outputs": [
    {
     "name": "stdout",
     "output_type": "stream",
     "text": [
      "apple\n",
      "banana\n"
     ]
    }
   ],
   "source": [
    "# the break statement\n",
    "#with the breck statement we can stop the loop before it has looped through all  the item:\n",
    "#Exit the loop when x is \"banana\"\n",
    "fruits = [\"apple\",\"banana\",\"cherry\"]\n",
    "for x in fruits:\n",
    "    print(x)\n",
    "    if x == \"banana\":\n",
    "         break"
   ]
  },
  {
   "cell_type": "code",
   "execution_count": 130,
   "metadata": {},
   "outputs": [
    {
     "name": "stdout",
     "output_type": "stream",
     "text": [
      "apple\n"
     ]
    }
   ],
   "source": [
    "#Exit the loop when x is \"banana\",but this time break comes before the print:\n",
    "fruits = [\"apple\",\"banana\",\"cherry\"]\n",
    "for x in fruits:\n",
    "   \n",
    "    if x == \"banana\":\n",
    "          break\n",
    "    print(x)"
   ]
  },
  {
   "cell_type": "code",
   "execution_count": 132,
   "metadata": {},
   "outputs": [
    {
     "name": "stdout",
     "output_type": "stream",
     "text": [
      "apple\n",
      "cherry\n"
     ]
    }
   ],
   "source": [
    "#the comntinue Statement \n",
    "#with the continue statmment we can  stop the current iteation o fthe loop, and continues with the next.\n",
    "# do  not print banana:\n",
    "fruits = [\"apple\",\"banana\",\"cherry\"]\n",
    "for x in fruits:\n",
    "    if x== \"banana\":\n",
    "        continue\n",
    "    print(x)"
   ]
  },
  {
   "cell_type": "code",
   "execution_count": 133,
   "metadata": {},
   "outputs": [
    {
     "name": "stdout",
     "output_type": "stream",
     "text": [
      "0\n",
      "1\n",
      "2\n",
      "3\n",
      "4\n",
      "5\n"
     ]
    }
   ],
   "source": [
    "# the range () function\n",
    "# to loop through a set of code a specified number of times. we can use the range() function. \n",
    "#the range () function returns a sequence of number, starting from 0 by default,a nd increments by 1(by default),\n",
    "# and ends at a specified number\n",
    "#Using the range() function:\n",
    "\n",
    "for x in range(6):\n",
    "    print(x)\n",
    "#Note that range (6) is not the value of 0 to 6, but the values 0 to 5.\n",
    "# the range() function default to 0 as a starting value,"
   ]
  },
  {
   "cell_type": "code",
   "execution_count": 134,
   "metadata": {},
   "outputs": [
    {
     "name": "stdout",
     "output_type": "stream",
     "text": [
      "2\n",
      "3\n",
      "4\n",
      "5\n"
     ]
    }
   ],
   "source": [
    "#however it is posible to specify the starting value by adding a parameter: range(2,6),which means values from 2to6 (but not including)\n",
    "#USING THE START PARAMETER:\n",
    "for x in range(2,6):\n",
    "    print(x)"
   ]
  },
  {
   "cell_type": "code",
   "execution_count": 136,
   "metadata": {},
   "outputs": [
    {
     "name": "stdout",
     "output_type": "stream",
     "text": [
      "2\n",
      "5\n",
      "8\n",
      "11\n",
      "14\n",
      "17\n",
      "20\n",
      "23\n",
      "26\n",
      "29\n"
     ]
    }
   ],
   "source": [
    "# the range function defaults to increments the sequence by 1,however it is possible to specify the increments value by adding\n",
    "#a third parameters:range(2,30,3.\n",
    "# increment the sequence with 3(default1):\n",
    "for x in range(2,30,3):\n",
    "    print(x)"
   ]
  },
  {
   "cell_type": "code",
   "execution_count": 138,
   "metadata": {},
   "outputs": [
    {
     "name": "stdout",
     "output_type": "stream",
     "text": [
      "0\n",
      "1\n",
      "2\n",
      "3\n",
      "4\n",
      "5\n",
      "finally finished\n"
     ]
    }
   ],
   "source": [
    "# Else in for loop\n",
    "# the else keyword in a for loop specifies a block of code to be executed when the loop is finished\n",
    "# print all numbers from 0 to 5 and print a message when the loop has ended:\n",
    "for x in range(6):\n",
    "    \n",
    "    print(x)\n",
    "else:\n",
    "    print('finally finished')"
   ]
  },
  {
   "cell_type": "code",
   "execution_count": 139,
   "metadata": {},
   "outputs": [
    {
     "name": "stdout",
     "output_type": "stream",
     "text": [
      "red apple\n",
      "red banana\n",
      "red cherry\n",
      "big apple\n",
      "big banana\n",
      "big cherry\n",
      "tasty apple\n",
      "tasty banana\n",
      "tasty cherry\n"
     ]
    }
   ],
   "source": [
    "# Nested Loops\n",
    "#a nested loop is a loop inside a loop\n",
    "# the \"inner loop\" will be executed one time for each iteration of the \"outer loop\"\n",
    "#print each adjective for every fruit:\n",
    "adj=[\"red\",\"big\",\"tasty\"]\n",
    "fruits =['apple','banana','cherry']\n",
    "for x in adj:\n",
    "    for y in fruits:\n",
    "        print(x,y)"
   ]
  },
  {
   "cell_type": "code",
   "execution_count": 140,
   "metadata": {},
   "outputs": [
    {
     "name": "stdout",
     "output_type": "stream",
     "text": [
      "\n",
      "\n",
      "Recursion Example result\n"
     ]
    },
    {
     "data": {
      "text/plain": [
       "21"
      ]
     },
     "execution_count": 140,
     "metadata": {},
     "output_type": "execute_result"
    }
   ],
   "source": [
    "#RECURSION\n",
    "#Python also accepts function recursion, which means a defined function can call itself;\n",
    "#Recursion is a common mathematical and programming concept.it means that a function calls itself.this has tha benefit of meanin\n",
    "#that you can loop through data to reach a result\n",
    "#in this example,tri_recursion() is afunction that we have defined to call itself (\"recurse\").we use the k variable as the data\n",
    "#which decrements(-1) every time we recurse.the recursion ends when the condition is not greater than 0(i.e when it is 0)\n",
    "\n",
    "def tri_recursion(k):\n",
    "    if(k>0):\n",
    "        result = k+tri_recursion(k-1)\n",
    "    else:\n",
    "        result = 0\n",
    "    return result\n",
    "print(\"\\n\\nRecursion Example result\")\n",
    "tri_recursion(6)\n",
    "        "
   ]
  },
  {
   "cell_type": "markdown",
   "metadata": {},
   "source": [
    "# pyhton function\n",
    "\n"
   ]
  },
  {
   "cell_type": "code",
   "execution_count": 142,
   "metadata": {},
   "outputs": [],
   "source": [
    "#a function is ablock of code which only runs when it is called\n",
    "#you can paass data ,known as parameters,into a function\n",
    "#a function can return can return data as a result\n",
    "#creating a function\n",
    "#in python a funtion is define using the def keyword:\n",
    "\n",
    "def my_function():\n",
    "    print(\"hello from a function\")"
   ]
  },
  {
   "cell_type": "code",
   "execution_count": 143,
   "metadata": {},
   "outputs": [],
   "source": [
    "#calling an funtion\n",
    "# to call a function,use the function name followed byparanthesis:\n",
    "def my_function():\n",
    "    print(\"hello from a function\")\n",
    "    my_functon()"
   ]
  },
  {
   "cell_type": "code",
   "execution_count": 147,
   "metadata": {},
   "outputs": [
    {
     "name": "stdout",
     "output_type": "stream",
     "text": [
      "EmailRefsnes\n",
      "tobiasRefsnes\n",
      "linusRefsnes\n"
     ]
    }
   ],
   "source": [
    "#PARAMETERS\n",
    "# informatin can be passed as a parameters\n",
    "#parameters are specified after the function name, inside the parantheses.you can add as many parameters ae you want ,just+ \n",
    "# separate them with a comma.\n",
    "#the example following example has a function with one parameter (fname).when the function is called, we pass along a first time\n",
    "#which i sused inside the function to point the full name:\n",
    "def my_function(fname):\n",
    "    print(fname + \"Refsnes\")\n",
    "my_function(\"Email\")\n",
    "my_function(\"tobias\")\n",
    "my_function(\"linus\")"
   ]
  },
  {
   "cell_type": "code",
   "execution_count": 155,
   "metadata": {},
   "outputs": [
    {
     "name": "stdout",
     "output_type": "stream",
     "text": [
      " i am from sweden\n",
      " i am from norway\n",
      " i am from india\n",
      " i am from brazil\n"
     ]
    }
   ],
   "source": [
    "# default parameter value\n",
    "#the following example shows how to use default parameter value:\n",
    "# if we call the function without the parameter, it uses the default value\"\n",
    "def my_function(country= \"india\"):\n",
    "    print( \" i am from \" +  country)\n",
    "my_function(\"sweden\") \n",
    "my_function(\"norway\")\n",
    "my_function()\n",
    "my_function(\"brazil\")"
   ]
  },
  {
   "cell_type": "code",
   "execution_count": 158,
   "metadata": {},
   "outputs": [
    {
     "name": "stdout",
     "output_type": "stream",
     "text": [
      "15\n",
      "25\n",
      "45\n",
      "75\n"
     ]
    }
   ],
   "source": [
    "#Return values\n",
    "#to let a function return a value ,use the return statement\n",
    "def my_function (x):\n",
    "    return 5*x\n",
    "print(my_function(3))\n",
    "print(my_function(5))\n",
    "print(my_function(9))\n",
    "print(my_function(15))"
   ]
  },
  {
   "cell_type": "markdown",
   "metadata": {},
   "source": [
    "# python arrays                                                                              1:54:30time\n"
   ]
  },
  {
   "cell_type": "code",
   "execution_count": 162,
   "metadata": {},
   "outputs": [],
   "source": [
    "#Note : python does not have built in support for arrays but pyhton lists can be used instead;\n",
    "#arrays\n",
    "# arrays are used to store multiple values in one single variable\n",
    "#create an array containing car names\n",
    "cars = [\"ford\",\"volvo\",\"bmw\"]"
   ]
  },
  {
   "cell_type": "code",
   "execution_count": 164,
   "metadata": {},
   "outputs": [],
   "source": [
    "#what is an array?\n",
    "# an array is aspecial variable ,which can hold more than one value at a time\n",
    "#if you have a list of items (a list of cars for example), storing the cars in single variable could look like this:\n",
    "# car1=\"ford\"\n",
    "#car2=\"volvo\"\n",
    "#car3=\"bmw\"\n",
    "#however,what if you want to loop through the cars and find a specific one? and what if oyu had not3 cars,but 300?\n",
    "#the solution is an array!\n",
    "#an array can hold many alues under a single name ,can access the value by refferring to an index number"
   ]
  },
  {
   "cell_type": "code",
   "execution_count": 167,
   "metadata": {},
   "outputs": [],
   "source": [
    "#access the element of an array\n",
    "#you refer to an array  element by refering to the index number\n",
    "#get the vlue of the first array item;\n",
    "x= cars[0]\n",
    "    "
   ]
  },
  {
   "cell_type": "code",
   "execution_count": 168,
   "metadata": {},
   "outputs": [],
   "source": [
    "#modify the value of the first array item:\n",
    "\n",
    "cars[0]=\"toyoto\""
   ]
  },
  {
   "cell_type": "code",
   "execution_count": 171,
   "metadata": {},
   "outputs": [
    {
     "name": "stdout",
     "output_type": "stream",
     "text": [
      "3\n"
     ]
    }
   ],
   "source": [
    "# the length of an  array\n",
    "# use the len() method to return a=of an array (the number of element in an array)\n",
    "# return the number of element in the cars array\n",
    "x=len(cars)\n",
    "print(x)\n",
    "#note: the length of an array is always one more than the highest array index"
   ]
  },
  {
   "cell_type": "code",
   "execution_count": 172,
   "metadata": {},
   "outputs": [
    {
     "name": "stdout",
     "output_type": "stream",
     "text": [
      "toyoto\n",
      "volvo\n",
      "bmw\n"
     ]
    }
   ],
   "source": [
    "#Looping array elements \n",
    "#you  can use the for in loop through all the elements of an array.\n",
    "# print each item in the cars array;\n",
    "for x in cars:\n",
    "    print(x)"
   ]
  },
  {
   "cell_type": "code",
   "execution_count": 178,
   "metadata": {},
   "outputs": [
    {
     "name": "stdout",
     "output_type": "stream",
     "text": [
      "['toyoto', 'bmw', 'honda', 'honda', 'honda']\n"
     ]
    }
   ],
   "source": [
    "#adding array elements\n",
    "# you can use append() method to add an element to an array:\n",
    "# add one more element to the cars array:\n",
    "cars.append(\"honda\")\n",
    "print(cars)\n"
   ]
  },
  {
   "cell_type": "code",
   "execution_count": 185,
   "metadata": {},
   "outputs": [
    {
     "ename": "SyntaxError",
     "evalue": "invalid syntax (<ipython-input-185-cf4ac38c301b>, line 4)",
     "output_type": "error",
     "traceback": [
      "\u001b[1;36m  File \u001b[1;32m\"<ipython-input-185-cf4ac38c301b>\"\u001b[1;36m, line \u001b[1;32m4\u001b[0m\n\u001b[1;33m    cars.remove(\"volvo\"):\u001b[0m\n\u001b[1;37m                         ^\u001b[0m\n\u001b[1;31mSyntaxError\u001b[0m\u001b[1;31m:\u001b[0m invalid syntax\n"
     ]
    }
   ],
   "source": [
    "#youn can also use remove() method to remove an elements from the array;\n",
    "#delet the element that has the value \"volvo\"\n",
    "\n",
    "cars.remove(\"volvo\")\n",
    "\n",
    "print(cars)\n",
    "#note : the remove () method only removes the first occurrence of the specified"
   ]
  },
  {
   "cell_type": "markdown",
   "metadata": {},
   "source": [
    "# pyton classes and objects-OOP\n",
    "python is an object oriented programming language\n",
    "almost everything in pyhton is an object,with its properties and method\n",
    "a class is like an object constructor,or \"blueprint\" for creating objects\n",
    "create a class\n",
    "to create a class ,use the keyword class\n",
    "create a class named myclass,with aproperty named x\n"
   ]
  },
  {
   "cell_type": "code",
   "execution_count": 186,
   "metadata": {},
   "outputs": [],
   "source": [
    "class myclass:\n",
    "    x=5"
   ]
  },
  {
   "cell_type": "code",
   "execution_count": 187,
   "metadata": {},
   "outputs": [
    {
     "name": "stdout",
     "output_type": "stream",
     "text": [
      "5\n"
     ]
    }
   ],
   "source": [
    "#create object\n",
    "#now we can use the class named myclass to create object:\n",
    "# create an object named p1.and print th e value of x:\n",
    "p1 = myclass()\n",
    "print(p1.x)"
   ]
  },
  {
   "cell_type": "code",
   "execution_count": 192,
   "metadata": {},
   "outputs": [
    {
     "name": "stdout",
     "output_type": "stream",
     "text": [
      "chay\n",
      "24\n"
     ]
    }
   ],
   "source": [
    "#THe init() function\n",
    "# the exmaple above are class  and obl=ject iin their simplest form and are not really usefull in real life application\n",
    "# to understand the meaning of class we have to understand the built-in init() function\n",
    "# all classes have a function called init(). which is always executed when the class is being initiated\n",
    "#use the init() function to assign values to object properties,or other operations hat are necessary to do when the objectcreat\n",
    "#creat a class named person,use th init() functon to assign for name and age:\n",
    "class person:\n",
    "    def __init__(self,name,age):\n",
    "        self.name = name\n",
    "        self. age = age\n",
    "p1 = person(\"chay\",24)\n",
    "print(p1.name)\n",
    "print(p1.age)\n",
    "#note; the init() function is called automaticaly every time the class is being used to creat a new object"
   ]
  },
  {
   "cell_type": "code",
   "execution_count": 193,
   "metadata": {},
   "outputs": [
    {
     "name": "stdout",
     "output_type": "stream",
     "text": [
      "hello my name is chay\n"
     ]
    }
   ],
   "source": [
    "#object metod\n",
    "# objecyt can also contain methods. mathod in objects are function that belonges to the objects\n",
    "#lets us create a method in the persomnd class\n",
    "#insert a functionn that print a greeting and execute it on the p1 object\n",
    "class person:\n",
    "    def __init__(self,name,age):\n",
    "        self.name = name\n",
    "        self.age = age\n",
    "    def myfunc(self):\n",
    "        print(\"hello my name is \" + self.name)\n",
    "p1 = person(\"chay\",36)\n",
    "p1.myfunc()\n",
    "\n",
    "#note the self parameters is a reference to the classs instance itself and used to access variable that belongs to the class\n"
   ]
  },
  {
   "cell_type": "code",
   "execution_count": null,
   "metadata": {},
   "outputs": [],
   "source": [
    "#the self parameter \n",
    "#the self parameter is a refernce to the class itself, and is uesd to accesss variable that belongs to the class\n",
    "# is does not have to be named self ,you can it whatever you like but it has to be the first parameters of anyfunctionintheclass\n"
   ]
  },
  {
   "cell_type": "code",
   "execution_count": 198,
   "metadata": {},
   "outputs": [
    {
     "name": "stdout",
     "output_type": "stream",
     "text": [
      "40\n"
     ]
    }
   ],
   "source": [
    "#modify object properties:\n",
    "#you can modify properties on object like this;\n",
    "#set the age of p1 to 40:\n",
    "\n",
    "p1.age = 40\n",
    "print(p1.age)"
   ]
  },
  {
   "cell_type": "code",
   "execution_count": 196,
   "metadata": {},
   "outputs": [],
   "source": [
    "#delete  object properties\n",
    "# you candelete properties on objects by using del keyword\n",
    "#delet the age property from the p1 object\n",
    "del p1.age"
   ]
  },
  {
   "cell_type": "code",
   "execution_count": 199,
   "metadata": {},
   "outputs": [],
   "source": [
    "#delete objectcts\n",
    "#you can delete object by using the del keyword \n",
    "#delete the p1 object\n",
    "del p1"
   ]
  },
  {
   "cell_type": "code",
   "execution_count": null,
   "metadata": {},
   "outputs": [],
   "source": [
    "                                                                                        # THE END AT 02-03-2020 12.05 AM"
   ]
  },
  {
   "cell_type": "code",
   "execution_count": null,
   "metadata": {},
   "outputs": [],
   "source": []
  },
  {
   "cell_type": "code",
   "execution_count": null,
   "metadata": {},
   "outputs": [],
   "source": []
  }
 ],
 "metadata": {
  "kernelspec": {
   "display_name": "Python 3",
   "language": "python",
   "name": "python3"
  },
  "language_info": {
   "codemirror_mode": {
    "name": "ipython",
    "version": 3
   },
   "file_extension": ".py",
   "mimetype": "text/x-python",
   "name": "python",
   "nbconvert_exporter": "python",
   "pygments_lexer": "ipython3",
   "version": "3.7.4"
  }
 },
 "nbformat": 4,
 "nbformat_minor": 2
}
